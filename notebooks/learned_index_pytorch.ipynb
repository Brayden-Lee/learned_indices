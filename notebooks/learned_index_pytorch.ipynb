{
 "metadata": {
  "name": "",
  "signature": "sha256:71011e6bff168d875e68c8dff32e53ec98371bc547667bd61e489712bfe2a926"
 },
 "nbformat": 3,
 "nbformat_minor": 0,
 "worksheets": [
  {
   "cells": [
    {
     "cell_type": "code",
     "collapsed": false,
     "input": [
      "import numpy as np\n",
      "import torch\n",
      "import torch.autograd\n",
      "from torch.autograd import Variable\n",
      "import torch.nn.functional as F\n",
      "\n",
      "import matplotlib.pyplot as plt\n",
      "%matplotlib inline"
     ],
     "language": "python",
     "metadata": {},
     "outputs": [],
     "prompt_number": 46
    },
    {
     "cell_type": "code",
     "collapsed": false,
     "input": [
      "def get_linear_model(num_neurons):\n",
      "    return torch.nn.Sequential(\n",
      "        torch.nn.Linear(1, num_neurons),\n",
      "        torch.nn.ReLU(),\n",
      "        torch.nn.Linear(num_neurons, 1),\n",
      "    )"
     ],
     "language": "python",
     "metadata": {},
     "outputs": [],
     "prompt_number": 47
    },
    {
     "cell_type": "code",
     "collapsed": false,
     "input": [
      "def get_lognormal_rounded(size, max_value, mean=0.0, std=2.0):\n",
      "    \"\"\"\n",
      "    Create lognormal dataset, convert to ints, scale to make max value equal to max_value\n",
      "    \"\"\"\n",
      "    values = np.random.lognormal(mean, std, size)\n",
      "    current_max_val = values.max()\n",
      "    scale_factor = max_value / current_max_val\n",
      "    values *= scale_factor\n",
      "    values = np.round(values)\n",
      "    values.sort()\n",
      "    return values"
     ],
     "language": "python",
     "metadata": {},
     "outputs": [],
     "prompt_number": 48
    },
    {
     "cell_type": "code",
     "collapsed": false,
     "input": [
      "def get_batch(batch_size=16):\n",
      "    labels = np.random.choice(dataset.shape[0], batch_size)\n",
      "    values = dataset[labels]\n",
      "    return (values, labels)"
     ],
     "language": "python",
     "metadata": {},
     "outputs": [],
     "prompt_number": 49
    },
    {
     "cell_type": "code",
     "collapsed": false,
     "input": [
      "import time"
     ],
     "language": "python",
     "metadata": {},
     "outputs": [],
     "prompt_number": 275
    },
    {
     "cell_type": "code",
     "collapsed": false,
     "input": [
      "batch_size = 32\n",
      "num_neurons = 16\n",
      "learning_rate = 0.009\n",
      "num_epoch = 10000\n",
      "dataset_size = 100000\n",
      "max_value = 1e5\n",
      "dataset = get_lognormal_rounded(dataset_size, max_value)\n",
      "\n",
      "model = get_linear_model(num_neurons)\n",
      "optimizer = torch.optim.Adam(model.parameters(), lr=learning_rate)\n",
      "\n",
      "losses = []\n",
      "\n",
      "start = time.time()\n",
      "for epoch in range(num_epoch):\n",
      "    batch_x, batch_y = get_batch(batch_size)\n",
      "    \n",
      "    batch_x = torch.unsqueeze(Variable(torch.Tensor(batch_x)), 1)\n",
      "    batch_y = torch.unsqueeze(Variable(torch.Tensor(batch_y)), 1)\n",
      "    \n",
      "    result = model(batch_x) * dataset_size\n",
      "    \n",
      "    output = F.smooth_l1_loss(result, batch_y)\n",
      "    #output = F.mse_loss(result, batch_y)\n",
      "    loss = output.data[0]\n",
      "\n",
      "    losses.append(loss)\n",
      "\n",
      "    optimizer.zero_grad()\n",
      "    output.backward()\n",
      "    optimizer.step()\n",
      "    \n",
      "end = time.time()\n",
      "\n",
      "duration = end - start\n",
      "\n",
      "print(duration)"
     ],
     "language": "python",
     "metadata": {},
     "outputs": [
      {
       "output_type": "stream",
       "stream": "stdout",
       "text": [
        "3.84709405899\n"
       ]
      }
     ],
     "prompt_number": 402
    },
    {
     "cell_type": "code",
     "collapsed": false,
     "input": [
      "plt.plot(losses)"
     ],
     "language": "python",
     "metadata": {},
     "outputs": [
      {
       "metadata": {},
       "output_type": "pyout",
       "prompt_number": 403,
       "text": [
        "[<matplotlib.lines.Line2D at 0x7f4284ee2510>]"
       ]
      },
      {
       "metadata": {},
       "output_type": "display_data",
       "png": "[encoded data removed]",
       "text": [
        "<matplotlib.figure.Figure at 0x7f4286faa410>"
       ]
      }
     ],
     "prompt_number": 403
    },
    {
     "cell_type": "code",
     "collapsed": false,
     "input": [
      "batch_x, batch_y = get_batch()\n",
      "\n",
      "batch_x = torch.unsqueeze(Variable(torch.Tensor(batch_x)), 1)\n",
      "batch_y = torch.unsqueeze(Variable(torch.Tensor(batch_y)), 1)\n",
      "\n",
      "result = model(batch_x) * dataset_size"
     ],
     "language": "python",
     "metadata": {},
     "outputs": [],
     "prompt_number": 404
    },
    {
     "cell_type": "code",
     "collapsed": false,
     "input": [
      "if True:\n",
      "    cpp_loss_data_path = \"/home/ben/software/learned_indices/cmake-build-debug/loss.csv\"\n",
      "\n",
      "    data = open(cpp_loss_data_path).read().split(\"\\n\")\n",
      "    data = [row.split(\",\") for row in data]\n",
      "    data = [(int(row[0]), float(row[1])) for row in data if len(row) > 1]\n",
      "    losses = np.array(data)\n",
      "    plt.plot(losses[:, 1])\n",
      "    plt.ylim(0, 1e5)"
     ],
     "language": "python",
     "metadata": {},
     "outputs": [
      {
       "metadata": {},
       "output_type": "display_data",
       "png": "[encoded data removed]",
       "text": [
        "<matplotlib.figure.Figure at 0x7f42851250d0>"
       ]
      }
     ],
     "prompt_number": 405
    },
    {
     "cell_type": "code",
     "collapsed": false,
     "input": [],
     "language": "python",
     "metadata": {},
     "outputs": []
    }
   ],
   "metadata": {}
  }
 ]
}